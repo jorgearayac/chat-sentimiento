{
 "cells": [
  {
   "cell_type": "markdown",
   "id": "bc50d40b",
   "metadata": {},
   "source": [
    "# Sentiment Training - IMDB\n",
    "Entrenamiento de modelo simple con TensorFlow usando un dataset público de IMDB: https://www.kaggle.com/datasets/lakshmi25npathi/imdb-dataset-of-50k-movie-reviews (IMDB Dataset of 50K Movie Reviews)"
   ]
  },
  {
   "cell_type": "code",
   "execution_count": 2,
   "id": "315de006",
   "metadata": {},
   "outputs": [],
   "source": [
    "# Se importan librerias\n",
    "import tensorflow as tf\n",
    "from tensorflow.keras.preprocessing.text import Tokenizer\n",
    "from tensorflow.keras.preprocessing.sequence import pad_sequences\n",
    "from tensorflow.keras.models import Sequential\n",
    "from tensorflow.keras.layers import Embedding, LSTM, Dense\n",
    "from tensorflow.keras.datasets import imdb\n",
    "import numpy as np"
   ]
  },
  {
   "cell_type": "markdown",
   "id": "94a3efdf",
   "metadata": {},
   "source": [
    "Cargamos dataset IMDB y lo procesamos"
   ]
  },
  {
   "cell_type": "code",
   "execution_count": 8,
   "id": "f3d2b37c",
   "metadata": {},
   "outputs": [],
   "source": [
    "num_words = 10000\n",
    "maxlen = 100\n",
    "\n",
    "(x_train, y_train), (x_test, y_test) = imdb.load_data(num_words=num_words)\n",
    "\n",
    "# Preprocesar: padding\n",
    "x_train = pad_sequences(x_train, maxlen=maxlen)\n",
    "x_test = pad_sequences(x_test, maxlen=maxlen)"
   ]
  },
  {
   "cell_type": "markdown",
   "id": "d4cc390e",
   "metadata": {},
   "source": [
    "Se crea un modelo simple"
   ]
  },
  {
   "cell_type": "code",
   "execution_count": 9,
   "id": "25a4a77c",
   "metadata": {},
   "outputs": [
    {
     "name": "stderr",
     "output_type": "stream",
     "text": [
      "c:\\Users\\araya\\chatbot-sentimiento\\venv\\lib\\site-packages\\keras\\src\\layers\\core\\embedding.py:97: UserWarning: Argument `input_length` is deprecated. Just remove it.\n",
      "  warnings.warn(\n"
     ]
    }
   ],
   "source": [
    "model = Sequential([Embedding(num_words, 32, input_length=maxlen), LSTM(32), Dense(1, activation='sigmoid')])"
   ]
  },
  {
   "cell_type": "code",
   "execution_count": 10,
   "id": "998e37d7",
   "metadata": {},
   "outputs": [],
   "source": [
    "model.compile(loss='binary_crossentropy', optimizer='adam', metrics=['accuracy'])"
   ]
  },
  {
   "cell_type": "markdown",
   "id": "27cc2d9e",
   "metadata": {},
   "source": [
    "Se entrena el modelo"
   ]
  },
  {
   "cell_type": "code",
   "execution_count": 11,
   "id": "50df5082",
   "metadata": {},
   "outputs": [
    {
     "name": "stdout",
     "output_type": "stream",
     "text": [
      "Epoch 1/3\n",
      "\u001b[1m391/391\u001b[0m \u001b[32m━━━━━━━━━━━━━━━━━━━━\u001b[0m\u001b[37m\u001b[0m \u001b[1m19s\u001b[0m 41ms/step - accuracy: 0.7924 - loss: 0.4368 - val_accuracy: 0.8516 - val_loss: 0.3468\n",
      "Epoch 2/3\n",
      "\u001b[1m391/391\u001b[0m \u001b[32m━━━━━━━━━━━━━━━━━━━━\u001b[0m\u001b[37m\u001b[0m \u001b[1m16s\u001b[0m 42ms/step - accuracy: 0.8921 - loss: 0.2679 - val_accuracy: 0.8494 - val_loss: 0.3497\n",
      "Epoch 3/3\n",
      "\u001b[1m391/391\u001b[0m \u001b[32m━━━━━━━━━━━━━━━━━━━━\u001b[0m\u001b[37m\u001b[0m \u001b[1m17s\u001b[0m 43ms/step - accuracy: 0.9179 - loss: 0.2140 - val_accuracy: 0.8394 - val_loss: 0.3855\n"
     ]
    },
    {
     "data": {
      "text/plain": [
       "<keras.src.callbacks.history.History at 0x1ea5a5514e0>"
      ]
     },
     "execution_count": 11,
     "metadata": {},
     "output_type": "execute_result"
    }
   ],
   "source": [
    "# Entrenar modelo\n",
    "model.fit(x_train, y_train, epochs=3, batch_size=64, validation_data=(x_test, y_test))"
   ]
  },
  {
   "cell_type": "code",
   "execution_count": 13,
   "id": "c323a3f8",
   "metadata": {},
   "outputs": [],
   "source": [
    "# Guardamos el modelo\n",
    "# Antiguo guardado: model.save('sentiment_model.h5')\n",
    "model.save('sentiment_model.keras')"
   ]
  }
 ],
 "metadata": {
  "kernelspec": {
   "display_name": "venv",
   "language": "python",
   "name": "python3"
  },
  "language_info": {
   "codemirror_mode": {
    "name": "ipython",
    "version": 3
   },
   "file_extension": ".py",
   "mimetype": "text/x-python",
   "name": "python",
   "nbconvert_exporter": "python",
   "pygments_lexer": "ipython3",
   "version": "3.10.11"
  }
 },
 "nbformat": 4,
 "nbformat_minor": 5
}
