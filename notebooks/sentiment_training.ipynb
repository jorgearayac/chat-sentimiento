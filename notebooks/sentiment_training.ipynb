{
 "cells": [
  {
   "cell_type": "markdown",
   "id": "bc50d40b",
   "metadata": {},
   "source": [
    "# Sentiment Training - IMDB\n",
    "Entrenamiento de modelo simple con TensorFlow usando un dataset público de IMDB: https://www.kaggle.com/datasets/lakshmi25npathi/imdb-dataset-of-50k-movie-reviews (IMDB Dataset of 50K Movie Reviews)"
   ]
  },
  {
   "cell_type": "code",
   "execution_count": 16,
   "id": "315de006",
   "metadata": {},
   "outputs": [],
   "source": [
    "# Se importan librerias\n",
    "import tensorflow as tf\n",
    "from tensorflow.keras.preprocessing.text import Tokenizer\n",
    "from tensorflow.keras.preprocessing.sequence import pad_sequences\n",
    "from tensorflow.keras.models import Sequential\n",
    "from tensorflow.keras.layers import Embedding, LSTM, Dense\n",
    "from tensorflow.keras.datasets import imdb\n",
    "import numpy as np"
   ]
  },
  {
   "cell_type": "markdown",
   "id": "94a3efdf",
   "metadata": {},
   "source": [
    "Cargamos dataset IMDB y lo procesamos"
   ]
  },
  {
   "cell_type": "code",
   "execution_count": 17,
   "id": "f3d2b37c",
   "metadata": {},
   "outputs": [],
   "source": [
    "num_words = 10000\n",
    "maxlen = 100\n",
    "\n",
    "(x_train, y_train), (x_test, y_test) = imdb.load_data(num_words=num_words)\n",
    "\n",
    "# Preprocesar: padding\n",
    "x_train = pad_sequences(x_train, maxlen=maxlen)\n",
    "x_test = pad_sequences(x_test, maxlen=maxlen)"
   ]
  },
  {
   "cell_type": "code",
   "execution_count": 18,
   "id": "ed39fa7b",
   "metadata": {},
   "outputs": [],
   "source": [
    "# Crear y ajustar el tokenizer\n",
    "\n",
    "# Aseguramos de que todos sean strings\n",
    "X_train = x_train.astype(str)\n",
    "\n",
    "# Convertimos a lista para que Tokenizer lo acepte\n",
    "X_train = X_train.tolist()\n",
    "\n",
    "tokenizer = Tokenizer(num_words=5000, oov_token=\"<OOV>\")\n",
    "tokenizer.fit_on_texts(X_train)  # X_train = tus textos de entrenamiento"
   ]
  },
  {
   "cell_type": "markdown",
   "id": "d4cc390e",
   "metadata": {},
   "source": [
    "Se crea un modelo simple"
   ]
  },
  {
   "cell_type": "code",
   "execution_count": 19,
   "id": "25a4a77c",
   "metadata": {},
   "outputs": [
    {
     "name": "stderr",
     "output_type": "stream",
     "text": [
      "c:\\Users\\araya\\chatbot-sentimiento\\venv\\lib\\site-packages\\keras\\src\\layers\\core\\embedding.py:97: UserWarning: Argument `input_length` is deprecated. Just remove it.\n",
      "  warnings.warn(\n"
     ]
    }
   ],
   "source": [
    "model = Sequential([Embedding(num_words, 32, input_length=maxlen), LSTM(32), Dense(1, activation='sigmoid')])"
   ]
  },
  {
   "cell_type": "code",
   "execution_count": 20,
   "id": "998e37d7",
   "metadata": {},
   "outputs": [],
   "source": [
    "model.compile(loss='binary_crossentropy', optimizer='adam', metrics=['accuracy'])"
   ]
  },
  {
   "cell_type": "markdown",
   "id": "27cc2d9e",
   "metadata": {},
   "source": [
    "Se entrena el modelo"
   ]
  },
  {
   "cell_type": "code",
   "execution_count": 21,
   "id": "50df5082",
   "metadata": {},
   "outputs": [
    {
     "name": "stdout",
     "output_type": "stream",
     "text": [
      "Epoch 1/3\n",
      "\u001b[1m391/391\u001b[0m \u001b[32m━━━━━━━━━━━━━━━━━━━━\u001b[0m\u001b[37m\u001b[0m \u001b[1m19s\u001b[0m 42ms/step - accuracy: 0.7845 - loss: 0.4375 - val_accuracy: 0.8450 - val_loss: 0.3484\n",
      "Epoch 2/3\n",
      "\u001b[1m391/391\u001b[0m \u001b[32m━━━━━━━━━━━━━━━━━━━━\u001b[0m\u001b[37m\u001b[0m \u001b[1m16s\u001b[0m 41ms/step - accuracy: 0.8900 - loss: 0.2676 - val_accuracy: 0.8437 - val_loss: 0.3493\n",
      "Epoch 3/3\n",
      "\u001b[1m391/391\u001b[0m \u001b[32m━━━━━━━━━━━━━━━━━━━━\u001b[0m\u001b[37m\u001b[0m \u001b[1m16s\u001b[0m 42ms/step - accuracy: 0.9178 - loss: 0.2126 - val_accuracy: 0.8420 - val_loss: 0.3896\n"
     ]
    },
    {
     "data": {
      "text/plain": [
       "<keras.src.callbacks.history.History at 0x23779db00d0>"
      ]
     },
     "execution_count": 21,
     "metadata": {},
     "output_type": "execute_result"
    }
   ],
   "source": [
    "# Entrenar modelo\n",
    "model.fit(x_train, y_train, epochs=3, batch_size=64, validation_data=(x_test, y_test))"
   ]
  },
  {
   "cell_type": "code",
   "execution_count": 23,
   "id": "c323a3f8",
   "metadata": {},
   "outputs": [
    {
     "name": "stdout",
     "output_type": "stream",
     "text": [
      "Modelo y tokenizer guardados en la carpeta 'model'\n"
     ]
    }
   ],
   "source": [
    "import os\n",
    "import pickle\n",
    "\n",
    "# Creamos carpeta 'model' \n",
    "os.makedirs('../model', exist_ok=True)\n",
    "\n",
    "# Guardamos el modelo\n",
    "# Antiguo guardado: model.save('sentiment_model.h5')\n",
    "model.save('../model/sentiment_model.keras')\n",
    "\n",
    "# Guardar tokenizer\n",
    "with open(\"../model/tokenizer.pickle\", \"wb\") as handle:\n",
    "    pickle.dump(tokenizer, handle, protocol=pickle.HIGHEST_PROTOCOL)\n",
    "\n",
    "print(\"Modelo y tokenizer guardados en la carpeta 'model'\")"
   ]
  }
 ],
 "metadata": {
  "kernelspec": {
   "display_name": "venv",
   "language": "python",
   "name": "python3"
  },
  "language_info": {
   "codemirror_mode": {
    "name": "ipython",
    "version": 3
   },
   "file_extension": ".py",
   "mimetype": "text/x-python",
   "name": "python",
   "nbconvert_exporter": "python",
   "pygments_lexer": "ipython3",
   "version": "3.10.11"
  }
 },
 "nbformat": 4,
 "nbformat_minor": 5
}
